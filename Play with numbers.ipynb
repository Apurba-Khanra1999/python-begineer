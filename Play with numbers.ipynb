{
 "cells": [
  {
   "cell_type": "code",
   "execution_count": 6,
   "id": "2524e7f2",
   "metadata": {},
   "outputs": [
    {
     "name": "stdout",
     "output_type": "stream",
     "text": [
      "1 2 3 4 5 6 7 8 9 10 11 12 13 14 15 16 17 18 19 20 21 22 23 24 25 26 27 28 29 30 31 32 33 34 35 36 37 38 39 40 41 42 43 44 45 46 47 48 49 50 51 52 53 54 55 56 57 58 59 60 61 62 63 64 65 66 67 68 69 70 71 72 73 74 75 76 77 78 79 80 81 82 83 84 85 86 87 88 89 90 91 92 93 94 95 96 97 98 99 100 "
     ]
    }
   ],
   "source": [
    "#1,2,3,4,5,......,100\n",
    "\n",
    "for i in range(1,101):\n",
    "    print(i, end=' ')"
   ]
  },
  {
   "cell_type": "code",
   "execution_count": 9,
   "id": "c1653e2e",
   "metadata": {},
   "outputs": [
    {
     "name": "stdout",
     "output_type": "stream",
     "text": [
      "2 4 6 8 10 12 14 16 18 20 22 24 26 28 30 32 34 36 38 40 42 44 46 48 50 52 54 56 58 60 62 64 66 68 70 72 74 76 78 80 82 84 86 88 90 92 94 96 98 100 102 104 106 108 110 112 114 116 118 120 122 124 126 128 130 132 134 136 138 140 142 144 146 148 150 152 154 156 158 160 162 164 166 168 170 172 174 176 178 180 182 184 186 188 190 192 194 196 198 200 "
     ]
    }
   ],
   "source": [
    "# 2,4,6,8,.....200\n",
    "\n",
    "for i in range(1,201):\n",
    "    if i%2==0:\n",
    "        print(i, end=' ')"
   ]
  },
  {
   "cell_type": "code",
   "execution_count": 10,
   "id": "acef871b",
   "metadata": {},
   "outputs": [
    {
     "name": "stdout",
     "output_type": "stream",
     "text": [
      "1 3 5 7 9 11 13 15 17 19 21 23 25 27 29 31 33 35 37 39 41 43 45 47 49 51 53 55 57 59 61 63 65 67 69 71 73 75 77 79 81 83 85 87 89 91 93 95 97 99 101 103 105 107 109 111 113 115 117 119 121 123 125 127 129 131 133 135 137 139 141 143 145 147 149 151 153 155 157 159 161 163 165 167 169 171 173 175 177 179 181 183 185 187 189 191 193 195 197 199 201 203 205 207 209 211 213 215 217 219 221 223 225 227 229 231 233 235 237 239 241 243 245 247 249 251 253 255 257 259 261 263 265 267 269 271 273 275 277 279 281 283 285 287 289 291 293 295 297 299 301 303 305 307 309 311 313 315 317 319 "
     ]
    }
   ],
   "source": [
    "# 1,3,5,7,.... 319\n",
    "\n",
    "for i in range(1,320):\n",
    "    if i%2 !=0:\n",
    "        print(i, end =' ')"
   ]
  },
  {
   "cell_type": "code",
   "execution_count": 11,
   "id": "987d2c72",
   "metadata": {},
   "outputs": [
    {
     "name": "stdout",
     "output_type": "stream",
     "text": [
      "5 10 15 20 25 30 35 40 45 50 55 60 65 70 75 80 85 90 95 100 105 110 115 120 125 130 135 140 145 150 155 160 165 170 175 180 185 190 195 200 205 210 215 220 225 230 235 240 245 250 255 260 265 270 275 280 285 290 295 300 305 310 315 320 325 330 335 340 345 350 355 360 365 370 375 380 385 390 395 400 405 410 415 420 425 430 435 440 445 450 455 460 465 470 475 480 485 490 495 500 "
     ]
    }
   ],
   "source": [
    "# 5,10,15,20,.....500\n",
    "\n",
    "for i in range(1,501):\n",
    "    if i%5==0:\n",
    "        print(i,end=' ')"
   ]
  },
  {
   "cell_type": "code",
   "execution_count": 13,
   "id": "c7c4fe5a",
   "metadata": {},
   "outputs": [
    {
     "name": "stdout",
     "output_type": "stream",
     "text": [
      "11 22 33 44 55 66 77 88 99 110 121 132 143 154 165 176 187 198 209 220 231 242 253 264 275 286 297 308 319 330 341 352 363 374 385 396 407 418 429 440 451 462 473 484 495 506 517 528 539 550 561 572 583 594 605 616 627 638 649 660 671 682 693 704 715 726 737 748 759 770 781 792 803 814 825 836 847 858 869 880 891 902 913 924 935 946 957 968 979 990 1001 1012 1023 1034 1045 1056 1067 1078 1089 1100 "
     ]
    }
   ],
   "source": [
    "# 11,22,33,44,.....1100\n",
    "\n",
    "for i in range(1,1101):\n",
    "    if i%11==0:\n",
    "        print(i,end=' ')"
   ]
  },
  {
   "cell_type": "code",
   "execution_count": 14,
   "id": "9bc4afd6",
   "metadata": {},
   "outputs": [
    {
     "name": "stdout",
     "output_type": "stream",
     "text": [
      "7 14 21 28 35 42 49 56 63 70 77 84 91 98 105 112 119 126 133 140 147 154 161 168 175 182 189 196 203 210 217 224 231 238 245 252 259 266 273 280 287 294 301 308 315 322 329 336 343 350 357 364 371 378 385 392 399 406 413 420 427 434 441 448 455 462 469 476 483 490 497 504 511 518 525 532 539 546 553 560 567 574 581 588 595 602 609 616 623 630 637 644 651 658 665 672 679 686 693 700 "
     ]
    }
   ],
   "source": [
    "#7,14,21,28,.....700\n",
    "\n",
    "for i in range(1,701):\n",
    "    if i%7==0:\n",
    "        print(i,end=' ')"
   ]
  },
  {
   "cell_type": "code",
   "execution_count": 20,
   "id": "81f3a369",
   "metadata": {},
   "outputs": [
    {
     "name": "stdout",
     "output_type": "stream",
     "text": [
      "100 99 98 97 96 95 94 93 92 91 90 89 88 87 86 85 84 83 82 81 80 79 78 77 76 75 74 73 72 71 70 69 68 67 66 65 64 63 62 61 60 59 58 57 56 55 54 53 52 51 50 49 48 47 46 45 44 43 42 41 40 39 38 37 36 35 34 33 32 31 30 29 28 27 26 25 24 23 22 21 20 19 18 17 16 15 14 13 12 11 10 9 8 7 6 5 4 3 2 1 "
     ]
    }
   ],
   "source": [
    "# 100,99,98,97,.....1\n",
    "\n",
    "for i in range(100,0,-1):\n",
    "    print(i,end=' ')\n",
    "    "
   ]
  },
  {
   "cell_type": "code",
   "execution_count": 25,
   "id": "ec7ff9c5",
   "metadata": {},
   "outputs": [
    {
     "name": "stdout",
     "output_type": "stream",
     "text": [
      "102 100 98 96 94 92 90 88 86 84 82 80 78 76 74 72 70 68 66 64 62 60 58 56 54 52 50 48 46 44 42 40 38 36 34 32 30 28 26 24 22 20 18 16 14 12 10 8 6 4 2 "
     ]
    }
   ],
   "source": [
    "# 102,100,98,96,.....2\n",
    "# two ways of solving\n",
    "\n",
    "#for i in range(102,0,-2):\n",
    " #   print(i,end=' ')\n",
    "    \n",
    "for i in range(102,0,-1):\n",
    "    if i%2 ==0:\n",
    "        print(i,end=' ')"
   ]
  },
  {
   "cell_type": "code",
   "execution_count": 23,
   "id": "6985f278",
   "metadata": {},
   "outputs": [
    {
     "name": "stdout",
     "output_type": "stream",
     "text": [
      "101 99 97 95 93 91 89 87 85 83 81 79 77 75 73 71 69 67 65 63 61 59 57 55 53 51 49 47 45 43 41 39 37 35 33 31 29 27 25 23 21 19 17 15 13 11 9 7 5 3 1 "
     ]
    }
   ],
   "source": [
    "# 101,99,97.......1\n",
    "\n",
    "# Two ways of solving\n",
    "\n",
    "#for i in range(101,0,-2):\n",
    " #   print(i,end=' ')\n",
    "    \n",
    "for i in range(101,0,-1):\n",
    "    if i%2 !=0:\n",
    "        print(i,end=' ')"
   ]
  },
  {
   "cell_type": "code",
   "execution_count": 27,
   "id": "066d2024",
   "metadata": {},
   "outputs": [
    {
     "name": "stdout",
     "output_type": "stream",
     "text": [
      "1 4 9 16 25 36 49 64 81 100 121 144 169 196 225 256 289 324 361 400 441 484 "
     ]
    }
   ],
   "source": [
    "# 1,4,9,16,25,......10000\n",
    "\n",
    "for i in range(1,500):\n",
    "    if (i**(.5)==int(i**(.5))):\n",
    "        print(i,end=' ')"
   ]
  },
  {
   "cell_type": "code",
   "execution_count": 30,
   "id": "1911d4f3",
   "metadata": {},
   "outputs": [
    {
     "name": "stdout",
     "output_type": "stream",
     "text": [
      " Enter a : 5\n",
      " Enter c : 5\n",
      "136\n"
     ]
    }
   ],
   "source": [
    "# d = 6^2 + 4ac    find d?\n",
    "\n",
    "a=int(input(\" Enter a : \"))\n",
    "c=int(input(\" Enter c : \"))\n",
    "\n",
    "print((6*6)+4*a*c)"
   ]
  },
  {
   "cell_type": "code",
   "execution_count": 31,
   "id": "58a6cb2e",
   "metadata": {},
   "outputs": [
    {
     "name": "stdout",
     "output_type": "stream",
     "text": [
      "Enter a 5\n",
      "Enter b 5\n",
      "Enter c 5\n",
      "Enter x 5\n",
      "155\n"
     ]
    }
   ],
   "source": [
    "# y = ax^2 + bx + c\n",
    "\n",
    "a=int(input('Enter a '))\n",
    "b=int(input('Enter b '))\n",
    "c=int(input('Enter c '))\n",
    "x=int(input('Enter x '))\n",
    "\n",
    "print((a*(x*x))+(b*x)+c)"
   ]
  },
  {
   "cell_type": "code",
   "execution_count": 33,
   "id": "4797e996",
   "metadata": {},
   "outputs": [
    {
     "name": "stdout",
     "output_type": "stream",
     "text": [
      "Enter u 10\n",
      "Enter a 10\n",
      "Enter t 10\n",
      "600.0\n"
     ]
    }
   ],
   "source": [
    "# s =ut + 1/2at^2 \n",
    "\n",
    "u=int(input('Enter u '))\n",
    "a=int(input('Enter a '))\n",
    "t=int(input('Enter t '))\n",
    "\n",
    "print((u*t)+(.5*a*(t*t)))"
   ]
  },
  {
   "cell_type": "code",
   "execution_count": 41,
   "id": "3bdd249f",
   "metadata": {},
   "outputs": [
    {
     "name": "stdout",
     "output_type": "stream",
     "text": [
      "Enter a 1\n",
      "Enter c 1\n",
      "89.0\n"
     ]
    }
   ],
   "source": [
    "import math\n",
    "a=int(input('Enter a '))\n",
    "c=int(input('Enter c '))\n",
    "c_pow=math.pow(c,90)\n",
    "a_pow=math.pow(a,70)\n",
    "print((24*a_pow)+(65*c_pow))"
   ]
  },
  {
   "cell_type": "code",
   "execution_count": 42,
   "id": "b6d3874e",
   "metadata": {},
   "outputs": [
    {
     "name": "stdout",
     "output_type": "stream",
     "text": [
      "Enter a 2\n",
      "Enter b 3\n",
      "3.605551275463989\n"
     ]
    }
   ],
   "source": [
    "import math\n",
    "a=int(input('Enter a '))\n",
    "b=int(input('Enter b '))\n",
    "a=a*a\n",
    "b=b*b\n",
    "print((a+b)**0.5)"
   ]
  },
  {
   "cell_type": "code",
   "execution_count": null,
   "id": "deefaedb",
   "metadata": {},
   "outputs": [],
   "source": []
  }
 ],
 "metadata": {
  "kernelspec": {
   "display_name": "Python 3 (ipykernel)",
   "language": "python",
   "name": "python3"
  },
  "language_info": {
   "codemirror_mode": {
    "name": "ipython",
    "version": 3
   },
   "file_extension": ".py",
   "mimetype": "text/x-python",
   "name": "python",
   "nbconvert_exporter": "python",
   "pygments_lexer": "ipython3",
   "version": "3.10.4"
  }
 },
 "nbformat": 4,
 "nbformat_minor": 5
}
