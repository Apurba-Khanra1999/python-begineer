{
 "cells": [
  {
   "cell_type": "code",
   "execution_count": null,
   "id": "df3173b9",
   "metadata": {
    "scrolled": true
   },
   "outputs": [],
   "source": [
    "'''Python Program to Print Hello world!\n",
    "Python Program to Add Two Numbers\n",
    "Python Program to Find the Square Root\n",
    "Python Program to Calculate the Area of a Triangle\n",
    "Python Program to Solve Quadratic Equation\n",
    "1. Python Program to Swap Two Variables\n",
    "2. Python Program to Generate a Random Number\n",
    "3. Python Program to Convert Kilometers to Miles\n",
    "4. Python Program to Convert Celsius To Fahrenheit\n",
    "5. Python Program to Check if a Number is Positive, Negative or 0\n",
    "6. Python Program to Check if a Number is Odd or Even\n",
    "7. Python Program to Check Leap Year\n",
    "8. Python Program to Find the Largest Among Three Numbers\n",
    "9. Python Program to Check Prime Number\n",
    "10. Python Program to Print all Prime Numbers in an Interval\n",
    "11. Python Program to Find the Factorial of a Number\n",
    "12. Python Program to Display the multiplication Table\n",
    "13. Python Program to Print the Fibonacci sequence\n",
    "14. Python Program to Check Armstrong Number\n",
    "15. Python Program to Find Armstrong Number in an Interval\n",
    "16. Python Program to Find the Sum of Natural Numbers'''"
   ]
  },
  {
   "cell_type": "code",
   "execution_count": 1,
   "id": "8644b294",
   "metadata": {},
   "outputs": [
    {
     "name": "stdout",
     "output_type": "stream",
     "text": [
      "Hello World\n"
     ]
    }
   ],
   "source": [
    "print('Hello World')"
   ]
  },
  {
   "cell_type": "code",
   "execution_count": 6,
   "id": "046976d6",
   "metadata": {},
   "outputs": [
    {
     "data": {
      "text/plain": [
       "60"
      ]
     },
     "execution_count": 6,
     "metadata": {},
     "output_type": "execute_result"
    }
   ],
   "source": [
    "# adding two number\n",
    "\n",
    "def addno(n,m):\n",
    "    return n+m\n",
    "addno(10,50)\n",
    "    "
   ]
  },
  {
   "cell_type": "code",
   "execution_count": 12,
   "id": "1408c925",
   "metadata": {},
   "outputs": [
    {
     "data": {
      "text/plain": [
       "9.0"
      ]
     },
     "execution_count": 12,
     "metadata": {},
     "output_type": "execute_result"
    }
   ],
   "source": [
    "# Square root of a number\n",
    "\n",
    "def sqrtno(n):\n",
    "    return n**0.5\n",
    "sqrtno(81)\n",
    "    "
   ]
  },
  {
   "cell_type": "code",
   "execution_count": 14,
   "id": "ea63cebd",
   "metadata": {},
   "outputs": [
    {
     "data": {
      "text/plain": [
       "180.0"
      ]
     },
     "execution_count": 14,
     "metadata": {},
     "output_type": "execute_result"
    }
   ],
   "source": [
    "# Area of triangle\n",
    "\n",
    "def areatri(n,m):\n",
    "    return 0.5*n*m\n",
    "\n",
    "areatri(45,8)"
   ]
  },
  {
   "cell_type": "code",
   "execution_count": 16,
   "id": "d023a49e",
   "metadata": {},
   "outputs": [
    {
     "data": {
      "text/plain": [
       "(9, 5)"
      ]
     },
     "execution_count": 16,
     "metadata": {},
     "output_type": "execute_result"
    }
   ],
   "source": [
    "# swap two variable\n",
    "\n",
    "def swapping(n,m):\n",
    "    n,m=m,n\n",
    "    return n,m\n",
    "swapping(5,9)"
   ]
  },
  {
   "cell_type": "code",
   "execution_count": 30,
   "id": "d3acc922",
   "metadata": {},
   "outputs": [
    {
     "name": "stdout",
     "output_type": "stream",
     "text": [
      "20\n"
     ]
    }
   ],
   "source": [
    "# Generate a random variable\n",
    "import random\n",
    "\n",
    "print(random.randint(0,100))\n"
   ]
  },
  {
   "cell_type": "code",
   "execution_count": 34,
   "id": "275adef4",
   "metadata": {},
   "outputs": [
    {
     "data": {
      "text/plain": [
       "52.816535"
      ]
     },
     "execution_count": 34,
     "metadata": {},
     "output_type": "execute_result"
    }
   ],
   "source": [
    "# Kilomenter to Miles\n",
    "\n",
    "def kmtomiles(n):\n",
    "    return n*0.621371\n",
    "\n",
    "kmtomiles(85)"
   ]
  },
  {
   "cell_type": "code",
   "execution_count": 42,
   "id": "99a653b3",
   "metadata": {},
   "outputs": [
    {
     "data": {
      "text/plain": [
       "212.0"
      ]
     },
     "execution_count": 42,
     "metadata": {},
     "output_type": "execute_result"
    }
   ],
   "source": [
    "# Celsius to fahrenheit\n",
    "\n",
    "def ctof(n):\n",
    "    return (n * 9/5)+32\n",
    "\n",
    "ctof(100)"
   ]
  },
  {
   "cell_type": "code",
   "execution_count": 47,
   "id": "bd95919a",
   "metadata": {},
   "outputs": [
    {
     "data": {
      "text/plain": [
       "'Negative'"
      ]
     },
     "execution_count": 47,
     "metadata": {},
     "output_type": "execute_result"
    }
   ],
   "source": [
    "# positive negative or zero\n",
    "\n",
    "def nocheck(n):\n",
    "    if n==0:\n",
    "        return 'Zero'\n",
    "    elif n>0:\n",
    "        return 'Positive'\n",
    "    else:\n",
    "        return 'Negative'\n",
    "nocheck(-78)"
   ]
  },
  {
   "cell_type": "code",
   "execution_count": 50,
   "id": "abd11144",
   "metadata": {},
   "outputs": [
    {
     "data": {
      "text/plain": [
       "'Even'"
      ]
     },
     "execution_count": 50,
     "metadata": {},
     "output_type": "execute_result"
    }
   ],
   "source": [
    "# Odd or Even\n",
    "\n",
    "def oddeven(n):\n",
    "    if n==0:\n",
    "        return 'Zero'\n",
    "    elif n%2==0:\n",
    "        return 'Even'\n",
    "    else:\n",
    "        return 'Odd'\n",
    "oddeven(90)"
   ]
  },
  {
   "cell_type": "code",
   "execution_count": 97,
   "id": "ce77f5c6",
   "metadata": {},
   "outputs": [
    {
     "data": {
      "text/plain": [
       "'Leap Year'"
      ]
     },
     "execution_count": 97,
     "metadata": {},
     "output_type": "execute_result"
    }
   ],
   "source": [
    "# Leap year\n",
    "\n",
    "def leapyear(n):\n",
    "    return 'Leap Year' if((n % 400 == 0) or  (n % 100 != 0) and  (n % 4 == 0)) else 'Not a Leap Year'\n",
    "\n",
    "leapyear(2016)"
   ]
  },
  {
   "cell_type": "code",
   "execution_count": 57,
   "id": "054a0655",
   "metadata": {},
   "outputs": [
    {
     "data": {
      "text/plain": [
       "40"
      ]
     },
     "execution_count": 57,
     "metadata": {},
     "output_type": "execute_result"
    }
   ],
   "source": [
    "# Largest among three number\n",
    "\n",
    "def largest(p,q,r):\n",
    "    if p>r and p>r :\n",
    "        return p\n",
    "    elif q>p and q>r:\n",
    "        return q\n",
    "    else:\n",
    "        return r\n",
    "largest(40,30,20)"
   ]
  },
  {
   "cell_type": "code",
   "execution_count": 90,
   "id": "2069ad23",
   "metadata": {},
   "outputs": [
    {
     "name": "stdout",
     "output_type": "stream",
     "text": [
      "Not Prime\n"
     ]
    }
   ],
   "source": [
    "# Prime Number \n",
    "\n",
    "def prime(n):\n",
    "    if n>1:\n",
    "        #m=int(n/2+1)\n",
    "        for i in range(2,int(n/2+1)):\n",
    "            if n%i==0:\n",
    "                print('Not Prime')\n",
    "                break\n",
    "        else:\n",
    "            return 'Prime'\n",
    "        \n",
    "prime(32)"
   ]
  },
  {
   "cell_type": "code",
   "execution_count": 94,
   "id": "f63bfee7",
   "metadata": {},
   "outputs": [
    {
     "name": "stdout",
     "output_type": "stream",
     "text": [
      "Not Prime\n",
      "11\n",
      "Not Prime\n",
      "13\n",
      "Not Prime\n",
      "Not Prime\n",
      "Not Prime\n",
      "17\n",
      "Not Prime\n",
      "19\n"
     ]
    }
   ],
   "source": [
    "# prime number at an interval\n",
    "\n",
    "def prime(lower,upper):\n",
    "    for i in range(lower,upper):\n",
    "        if i>1:\n",
    "            #m=int(n/2+1)\n",
    "            for j in range(2,int(i/2+1)):\n",
    "                if i%j==0:\n",
    "                    print('Not Prime')\n",
    "                    break\n",
    "            else:\n",
    "                print(i)\n",
    "prime(10,20)"
   ]
  },
  {
   "cell_type": "code",
   "execution_count": 99,
   "id": "02ed64ff",
   "metadata": {},
   "outputs": [
    {
     "data": {
      "text/plain": [
       "720"
      ]
     },
     "execution_count": 99,
     "metadata": {},
     "output_type": "execute_result"
    }
   ],
   "source": [
    "# Factorial of a Number\n",
    "\n",
    "def fact(n):\n",
    "    return 1 if(n==0 or n==1) else n*fact(n-1)\n",
    "fact(6)"
   ]
  },
  {
   "cell_type": "code",
   "execution_count": 108,
   "id": "88067c17",
   "metadata": {},
   "outputs": [
    {
     "name": "stdout",
     "output_type": "stream",
     "text": [
      "5 x 1 = 5\n",
      "5 x 2 = 10\n",
      "5 x 3 = 15\n",
      "5 x 4 = 20\n",
      "5 x 5 = 25\n",
      "5 x 6 = 30\n",
      "5 x 7 = 35\n",
      "5 x 8 = 40\n",
      "5 x 9 = 45\n",
      "5 x 10 = 50\n"
     ]
    }
   ],
   "source": [
    "def multable(n):\n",
    "    for i in range(1,11):\n",
    "        print(n,'x',i,'=',i*n)\n",
    "multable(5)"
   ]
  },
  {
   "cell_type": "code",
   "execution_count": 127,
   "id": "cf7ffc41",
   "metadata": {},
   "outputs": [
    {
     "name": "stdout",
     "output_type": "stream",
     "text": [
      "1\n",
      "2\n",
      "3\n",
      "5\n",
      "8\n",
      "13\n",
      "21\n",
      "34\n"
     ]
    }
   ],
   "source": [
    "# Fibonacci sequence\n",
    "\n",
    "def fibo(n):\n",
    "    a,b=0,1\n",
    "    if n < 0:\n",
    "        return 'Incorrect Number'\n",
    "    else:\n",
    "        for i in range(2,n):\n",
    "            c = a + b\n",
    "            a,b=b,c\n",
    "            print(c)\n",
    "fibo(10)"
   ]
  },
  {
   "cell_type": "code",
   "execution_count": 130,
   "id": "3566a6f2",
   "metadata": {},
   "outputs": [
    {
     "data": {
      "text/plain": [
       "'Armstrong'"
      ]
     },
     "execution_count": 130,
     "metadata": {},
     "output_type": "execute_result"
    }
   ],
   "source": [
    "# Armstrong Number \n",
    "\n",
    "def armstrong(n):\n",
    "    temp,summ=n,0\n",
    "    length=len(str(n))\n",
    "    while temp > 0:\n",
    "        digit = temp % 10\n",
    "        summ += digit ** length\n",
    "        temp //= 10\n",
    "    return 'Armstrong' if summ==n else 'Not Armstrong'\n",
    "armstrong(1634)"
   ]
  },
  {
   "cell_type": "code",
   "execution_count": 138,
   "id": "9d08b4cd",
   "metadata": {},
   "outputs": [
    {
     "name": "stdout",
     "output_type": "stream",
     "text": [
      "Not armstrong\n",
      "Not armstrong\n",
      "Not armstrong\n",
      "armstrong\n",
      "Not armstrong\n",
      "Not armstrong\n",
      "Not armstrong\n",
      "Not armstrong\n",
      "Not armstrong\n",
      "Not armstrong\n"
     ]
    }
   ],
   "source": [
    "# Armstrong Number within a given range\n",
    "\n",
    "def armstrongrange(n,m):\n",
    "    for i in range(n,m):\n",
    "        temp,summ=i,0\n",
    "        length=len(str(i))\n",
    "        while temp > 0:\n",
    "            digit = temp % 10\n",
    "            summ += digit ** length\n",
    "            temp //= 10\n",
    "        if summ==i:\n",
    "            print('armstrong')\n",
    "        else:\n",
    "            print('Not armstrong')\n",
    "\n",
    "armstrongrange(150,160)\n",
    "    "
   ]
  },
  {
   "cell_type": "code",
   "execution_count": 143,
   "id": "589d6193",
   "metadata": {},
   "outputs": [
    {
     "data": {
      "text/plain": [
       "45"
      ]
     },
     "execution_count": 143,
     "metadata": {},
     "output_type": "execute_result"
    }
   ],
   "source": [
    "# Sum of n Natural numbers\n",
    "\n",
    "def naturalno(n):\n",
    "    sum=0\n",
    "    for i in range(1,n):\n",
    "        sum+=i\n",
    "    return sum\n",
    "naturalno(10)"
   ]
  },
  {
   "cell_type": "code",
   "execution_count": 148,
   "id": "d3b55bbd",
   "metadata": {},
   "outputs": [
    {
     "data": {
      "text/plain": [
       "124705"
      ]
     },
     "execution_count": 148,
     "metadata": {},
     "output_type": "execute_result"
    }
   ],
   "source": [
    "# Sum of Natural number within a range\n",
    "\n",
    "def naturalnorange(n,m):\n",
    "    sum=0\n",
    "    for i in range(n,m):\n",
    "        sum+=i\n",
    "    return sum\n",
    "\n",
    "naturalnorange(10,500)"
   ]
  }
 ],
 "metadata": {
  "kernelspec": {
   "display_name": "Python 3 (ipykernel)",
   "language": "python",
   "name": "python3"
  },
  "language_info": {
   "codemirror_mode": {
    "name": "ipython",
    "version": 3
   },
   "file_extension": ".py",
   "mimetype": "text/x-python",
   "name": "python",
   "nbconvert_exporter": "python",
   "pygments_lexer": "ipython3",
   "version": "3.10.0"
  }
 },
 "nbformat": 4,
 "nbformat_minor": 5
}
